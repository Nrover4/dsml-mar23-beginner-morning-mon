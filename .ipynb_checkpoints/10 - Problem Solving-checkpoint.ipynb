{
 "cells": [
  {
   "cell_type": "code",
   "execution_count": 1,
   "id": "15f7b024",
   "metadata": {},
   "outputs": [
    {
     "data": {
      "text/plain": [
       "'\\nQUESTION ->\\n\\n55555\\n54445\\n54345\\n54445\\n55555\\n'"
      ]
     },
     "execution_count": 1,
     "metadata": {},
     "output_type": "execute_result"
    }
   ],
   "source": [
    "'''\n",
    "QUESTION ->\n",
    "\n",
    "55555\n",
    "54445\n",
    "54345\n",
    "54445\n",
    "55555\n",
    "'''"
   ]
  },
  {
   "cell_type": "code",
   "execution_count": 3,
   "id": "61244895",
   "metadata": {},
   "outputs": [
    {
     "name": "stdout",
     "output_type": "stream",
     "text": [
      "6\n",
      "6 6 6 6 6 6 \n",
      "6 5 5 5 5 6 \n",
      "6 5 4 4 5 6 \n",
      "6 5 4 4 5 6 \n",
      "6 5 5 5 5 6 \n",
      "6 6 6 6 6 6 \n"
     ]
    }
   ],
   "source": [
    "n = int(input())\n",
    "\n",
    "for i in range(n):\n",
    "    for j in range(n):\n",
    "        print(max(i + 1, j + 1, n - i, n - j), end = \" \")\n",
    "    \n",
    "    print()"
   ]
  },
  {
   "cell_type": "code",
   "execution_count": 4,
   "id": "795b6145",
   "metadata": {},
   "outputs": [
    {
     "name": "stdout",
     "output_type": "stream",
     "text": [
      "10\n"
     ]
    }
   ],
   "source": [
    "n = int(input())\n",
    "\n",
    "ans = 0\n",
    "\n",
    "for i in range(1, n + 1):\n",
    "    if i % 2 == 1:\n",
    "        ans += i"
   ]
  },
  {
   "cell_type": "code",
   "execution_count": 5,
   "id": "e61a7b03",
   "metadata": {},
   "outputs": [
    {
     "data": {
      "text/plain": [
       "25"
      ]
     },
     "execution_count": 5,
     "metadata": {},
     "output_type": "execute_result"
    }
   ],
   "source": [
    "ans"
   ]
  },
  {
   "cell_type": "code",
   "execution_count": 6,
   "id": "ad4f27f3",
   "metadata": {},
   "outputs": [
    {
     "name": "stdout",
     "output_type": "stream",
     "text": [
      "10\n"
     ]
    }
   ],
   "source": [
    "n = int(input())\n",
    "\n",
    "ans = 0\n",
    "\n",
    "for i in range(1, n + 1, 2):\n",
    "    ans += i"
   ]
  },
  {
   "cell_type": "code",
   "execution_count": null,
   "id": "06b2350d",
   "metadata": {},
   "outputs": [],
   "source": []
  },
  {
   "cell_type": "code",
   "execution_count": null,
   "id": "44fd4f22",
   "metadata": {},
   "outputs": [],
   "source": []
  }
 ],
 "metadata": {
  "kernelspec": {
   "display_name": "Python 3 (ipykernel)",
   "language": "python",
   "name": "python3"
  },
  "language_info": {
   "codemirror_mode": {
    "name": "ipython",
    "version": 3
   },
   "file_extension": ".py",
   "mimetype": "text/x-python",
   "name": "python",
   "nbconvert_exporter": "python",
   "pygments_lexer": "ipython3",
   "version": "3.9.5"
  }
 },
 "nbformat": 4,
 "nbformat_minor": 5
}
